{
  "nbformat": 4,
  "nbformat_minor": 0,
  "metadata": {
    "colab": {
      "provenance": []
    },
    "kernelspec": {
      "name": "python3",
      "display_name": "Python 3"
    },
    "language_info": {
      "name": "python"
    }
  },
  "cells": [
    {
      "cell_type": "markdown",
      "source": [
        "#Python for NLP: An introduction to `nltk` library"
      ],
      "metadata": {
        "id": "-jTd7BWqbWoA"
      }
    },
    {
      "cell_type": "markdown",
      "source": [
        "In this notebook you'll be guided through a series of exercises, where you'll learn to make use of the nltk library and some of its functions for purposes like:\n",
        "\n",
        "\n",
        "*   Parsing\n",
        "*   Tokenization\n",
        "*   Tree generation\n",
        "*   ...\n",
        "\n",
        "Hope you enjoy it!\n",
        "\n",
        "\n",
        "\n",
        "\n",
        "\n",
        "\n"
      ],
      "metadata": {
        "id": "jQGDiUzxaeOC"
      }
    },
    {
      "cell_type": "markdown",
      "source": [
        "## **Set up**"
      ],
      "metadata": {
        "id": "51f8d0ybWjEy"
      }
    },
    {
      "cell_type": "code",
      "source": [
        "#pip install nltk"
      ],
      "metadata": {
        "colab": {
          "base_uri": "https://localhost:8080/"
        },
        "id": "y73d7HB15ouS",
        "outputId": "92b031e8-8885-49d8-83f6-e61463b79fc4"
      },
      "execution_count": null,
      "outputs": [
        {
          "output_type": "stream",
          "name": "stdout",
          "text": [
            "Looking in indexes: https://pypi.org/simple, https://us-python.pkg.dev/colab-wheels/public/simple/\n",
            "Requirement already satisfied: nltk in /usr/local/lib/python3.9/dist-packages (3.7)\n",
            "Requirement already satisfied: regex>=2021.8.3 in /usr/local/lib/python3.9/dist-packages (from nltk) (2022.6.2)\n",
            "Requirement already satisfied: click in /usr/local/lib/python3.9/dist-packages (from nltk) (8.1.3)\n",
            "Requirement already satisfied: tqdm in /usr/local/lib/python3.9/dist-packages (from nltk) (4.65.0)\n",
            "Requirement already satisfied: joblib in /usr/local/lib/python3.9/dist-packages (from nltk) (1.2.0)\n"
          ]
        }
      ]
    },
    {
      "cell_type": "code",
      "source": [
        "import nltk\n",
        "nltk.download('popular')\n",
        "nltk.download('punkt')\n",
        "nltk.download('averaged_perceptron_tagger')"
      ],
      "metadata": {
        "id": "7hTLdnpW5_d7"
      },
      "execution_count": null,
      "outputs": []
    },
    {
      "cell_type": "code",
      "source": [
        "nltk.download('maxent_treebank_pos_tagger')\n",
        "nltk.download('treebank')\n",
        "\n",
        "from nltk.draw.tree import draw_trees\n"
      ],
      "metadata": {
        "colab": {
          "base_uri": "https://localhost:8080/"
        },
        "id": "yqw5bbC_8bsO",
        "outputId": "6328521a-c308-4ff7-fae2-b79da99c5361"
      },
      "execution_count": null,
      "outputs": [
        {
          "output_type": "stream",
          "name": "stderr",
          "text": [
            "[nltk_data] Downloading package maxent_treebank_pos_tagger to\n",
            "[nltk_data]     /root/nltk_data...\n",
            "[nltk_data]   Package maxent_treebank_pos_tagger is already up-to-\n",
            "[nltk_data]       date!\n",
            "[nltk_data] Downloading package treebank to /root/nltk_data...\n",
            "[nltk_data]   Package treebank is already up-to-date!\n"
          ]
        }
      ]
    },
    {
      "cell_type": "code",
      "execution_count": null,
      "metadata": {
        "colab": {
          "base_uri": "https://localhost:8080/"
        },
        "id": "YJgaC0N45KqW",
        "outputId": "9ce7df3e-4d8e-4651-f329-2f40214e4774"
      },
      "outputs": [
        {
          "output_type": "stream",
          "name": "stdout",
          "text": [
            "['At', 'eight', \"o'clock\", 'on', 'Thursday', 'morning', 'Arthur', 'did', \"n't\", 'feel', 'very', 'good', '.']\n",
            "PoS: [('At', 'IN'), ('eight', 'CD'), (\"o'clock\", 'NN'), ('on', 'IN'), ('Thursday', 'NNP'), ('morning', 'NN'), ('Arthur', 'NNP'), ('did', 'VBD'), (\"n't\", 'RB'), ('feel', 'VB'), ('very', 'RB'), ('good', 'JJ'), ('.', '.')]\n",
            "['Good', 'muffins', 'cost', '$3.88', 'in', 'New', 'York', '.', 'Please', 'buy', 'me', 'two', 'of', 'them', '.', 'Thanks', '.']\n"
          ]
        }
      ],
      "source": [
        "sentence = \"At eight o'clock on Thursday morning Arthur didn't feel very good.\"\n",
        "tokens = nltk.word_tokenize(sentence) # Tokenize\n",
        "print(tokens)\n",
        "tagged = nltk.pos_tag(tokens) # PoS tagging\n",
        "print(\"PoS:\",tagged)\n",
        "from nltk.tokenize import RegexpTokenizer\n",
        "s = \"Good muffins cost $3.88\\nin New York. Please buy me two of them.\\n\\nThanks.\"\n",
        "tokenizer = RegexpTokenizer(r'\\w+|\\$[\\d\\.]+|\\S+')\n",
        "output = tokenizer.tokenize(s)\n",
        "print(output)\n",
        "from nltk.corpus import treebank\n",
        "t = treebank.parsed_sents('wsj_0001.mrg')[0]\n",
        "#t.draw()\n"
      ]
    },
    {
      "cell_type": "markdown",
      "source": [
        "##**1. Exercise**\n",
        "\n"
      ],
      "metadata": {
        "id": "iE5N9l7K97bJ"
      }
    },
    {
      "cell_type": "markdown",
      "source": [
        "#### Using the NLTK instructions, tokenize and compute the PoS of these sentences. Print the result:  \n",
        "\n",
        "*   `The Jamaica Observer reported that Usain Bolt broke the 100m record`\n",
        "*   `While hunting in Africa, I shot an elephant in my pajamas. How an elephant got into my pajamas I'll never know.`\n"
      ],
      "metadata": {
        "id": "qeOkN4Tm_j7F"
      }
    },
    {
      "cell_type": "code",
      "source": [
        "# First sentence\n",
        "sentence1 = \"The Jamaica Observer reported that Usain Bolt broke the 100m record.\"\n",
        "tokens1 = nltk.word_tokenize(sentence1)\n",
        "PoS1 = nltk.pos_tag(tokens1)\n",
        "\n",
        "print(PoS1)\n",
        "\n",
        "# Second sentence\n",
        "sentence2 = \"While hunting in Africa, I shot an elephant in my pajamas. How an elephant got into my pajamas I'll never know.\"\n",
        "tokens2 = nltk.word_tokenize(sentence2)\n",
        "PoS2 = nltk.pos_tag(tokens2)\n",
        "\n",
        "print(PoS2)\n"
      ],
      "metadata": {
        "colab": {
          "base_uri": "https://localhost:8080/"
        },
        "id": "-9SWZsnQ55Vl",
        "outputId": "3c775d30-9135-4a78-8a55-5027521f66c5"
      },
      "execution_count": null,
      "outputs": [
        {
          "output_type": "stream",
          "name": "stdout",
          "text": [
            "[('The', 'DT'), ('Jamaica', 'NNP'), ('Observer', 'NNP'), ('reported', 'VBD'), ('that', 'DT'), ('Usain', 'NNP'), ('Bolt', 'NNP'), ('broke', 'VBD'), ('the', 'DT'), ('100m', 'CD'), ('record', 'NN'), ('.', '.')]\n",
            "[('While', 'IN'), ('hunting', 'VBG'), ('in', 'IN'), ('Africa', 'NNP'), (',', ','), ('I', 'PRP'), ('shot', 'VBP'), ('an', 'DT'), ('elephant', 'NN'), ('in', 'IN'), ('my', 'PRP$'), ('pajamas', 'NN'), ('.', '.'), ('How', 'WRB'), ('an', 'DT'), ('elephant', 'JJ'), ('got', 'VBD'), ('into', 'IN'), ('my', 'PRP$'), ('pajamas', 'NN'), ('I', 'PRP'), (\"'ll\", 'MD'), ('never', 'RB'), ('know', 'VB'), ('.', '.')]\n"
          ]
        }
      ]
    },
    {
      "cell_type": "markdown",
      "source": [
        "## **2. Exercise:**"
      ],
      "metadata": {
        "id": "LzPQUZ2v-1Xx"
      }
    },
    {
      "cell_type": "markdown",
      "source": [
        "Given the following code:\n",
        "\n",
        "\n",
        "```\n",
        "import nltk\n",
        "from nltk import CFG\n",
        "# Defining a grammar\n",
        "groucho_grammar = CFG.fromstring(\"\"\"\n",
        "S -> NP VP\n",
        "PP -> P NP\n",
        "NP -> Det N | Det N PP | 'I' | 'You'\n",
        "VP -> V NP | VP PP\n",
        "Det -> 'an' | 'my'\n",
        "N -> 'elephant' | 'pajamas'\n",
        "V -> 'shot'\n",
        "P -> 'in'\n",
        "\"\"\")\n",
        "# Printing the grammar\n",
        "print(\"START grammar:\",groucho_grammar.start())\n",
        "print(\"PRODUCTIONS grammar:\",groucho_grammar.productions())\n",
        "text = \"I shot an elephant in my pajamas\"\n",
        "text_tokens = nltk.word_tokenize(text)\n",
        "# Parsing the text\n",
        "parser = nltk.parse.chart.ChartParser(groucho_grammar,trace=2)\n",
        "trees = parser.parse(text_tokens)\n",
        "for t in trees:\n",
        "    print(t)\n",
        "```\n",
        "Modify the code to parse this list of texts (no need to parse Grouxo’s sentence anymore):\n",
        "\n",
        "```\n",
        "mytexts = [\"John saw a man with my telescope\", \n",
        "           \"Alex kissed the dog\", \n",
        "           \"the man with the telescope ate a sandwich in the park\"]\n",
        "```\n",
        "Follow these steps:\n",
        "1. Create a CFG that can parse the sentences in mytexts.\n",
        "\n",
        "2. Make a loop for each sentence in mytexts:  \n",
        "    *   Parse the sentence.\n",
        "    *   Print the parse trees.\n",
        "    \n",
        "3. If the output consists of more than one parse tree, explain (maximum two sentences)\n",
        "why there is an ambiguity.\n",
        "\n"
      ],
      "metadata": {
        "id": "VJaBun1o_nRd"
      }
    },
    {
      "cell_type": "code",
      "source": [
        "from nltk import CFG\n",
        "\n",
        "# Defining a grammar\n",
        "my_grammar = CFG.fromstring(\"\"\"\n",
        "S -> NP VP\n",
        "PP -> P NP\n",
        "NP -> Det N | Det N PP | Det N PP PP | 'John' | 'Alex'\n",
        "VP -> V NP | VP PP | VP AdvP\n",
        "Det -> 'a' | 'my' | 'the'\n",
        "N -> 'man' | 'telescope' | 'dog' | 'sandwich' | 'park'\n",
        "V -> 'saw' | 'kissed' | 'ate'\n",
        "P -> 'with' | 'in'\n",
        "AdvP -> Adv PP\n",
        "Adv -> 'with'\n",
        "\"\"\")\n",
        "\n",
        "# List of texts to be parsed\n",
        "mytexts = [\"John saw a man with my telescope\", \n",
        "           \"Alex kissed the dog\", \n",
        "           \"the man with the telescope ate a sandwich in the park\"]\n",
        "\n",
        "# Printing the grammar\n",
        "print(\"START grammar:\",my_grammar.start())\n",
        "print(\"PRODUCTIONS grammar:\",my_grammar.productions())\n",
        "print (\"\\n\\n\\n\")\n",
        "\n",
        "for sentence in mytexts:\n",
        "    #printing the tree\n",
        "    print(\"Tree of the sentence :\", sentence)\n",
        "    parser = nltk.parse.chart.ChartParser(my_grammar,trace=2)\n",
        "    text_tokens = nltk.word_tokenize(sentence)\n",
        "    trees = parser.parse(text_tokens)\n",
        "    for t in trees:\n",
        "        print(t)\n",
        "    print(\"\\n\\n\\n\\n\\n\")\n"
      ],
      "metadata": {
        "colab": {
          "base_uri": "https://localhost:8080/"
        },
        "id": "kWPiOery-1KP",
        "outputId": "c68973df-9ac1-4bb2-a907-36391fe76d51"
      },
      "execution_count": null,
      "outputs": [
        {
          "output_type": "stream",
          "name": "stdout",
          "text": [
            "START grammar: S\n",
            "PRODUCTIONS grammar: [S -> NP VP, PP -> P NP, NP -> Det N, NP -> Det N PP, NP -> Det N PP PP, NP -> 'John', NP -> 'Alex', VP -> V NP, VP -> VP PP, VP -> VP AdvP, Det -> 'a', Det -> 'my', Det -> 'the', N -> 'man', N -> 'telescope', N -> 'dog', N -> 'sandwich', N -> 'park', V -> 'saw', V -> 'kissed', V -> 'ate', P -> 'with', P -> 'in', AdvP -> Adv PP, Adv -> 'with']\n",
            "\n",
            "\n",
            "\n",
            "\n",
            "Tree of the sentence : John saw a man with my telescope\n",
            "|. John. saw .  a  . man . with.  my .teles.|\n",
            "Leaf Init Rule:\n",
            "|[-----]     .     .     .     .     .     .| [0:1] 'John'\n",
            "|.     [-----]     .     .     .     .     .| [1:2] 'saw'\n",
            "|.     .     [-----]     .     .     .     .| [2:3] 'a'\n",
            "|.     .     .     [-----]     .     .     .| [3:4] 'man'\n",
            "|.     .     .     .     [-----]     .     .| [4:5] 'with'\n",
            "|.     .     .     .     .     [-----]     .| [5:6] 'my'\n",
            "|.     .     .     .     .     .     [-----]| [6:7] 'telescope'\n",
            "Bottom Up Predict Combine Rule:\n",
            "|[-----]     .     .     .     .     .     .| [0:1] NP -> 'John' *\n",
            "Bottom Up Predict Combine Rule:\n",
            "|[----->     .     .     .     .     .     .| [0:1] S  -> NP * VP\n",
            "Bottom Up Predict Combine Rule:\n",
            "|.     [-----]     .     .     .     .     .| [1:2] V  -> 'saw' *\n",
            "Bottom Up Predict Combine Rule:\n",
            "|.     [----->     .     .     .     .     .| [1:2] VP -> V * NP\n",
            "Bottom Up Predict Combine Rule:\n",
            "|.     .     [-----]     .     .     .     .| [2:3] Det -> 'a' *\n",
            "Bottom Up Predict Combine Rule:\n",
            "|.     .     [----->     .     .     .     .| [2:3] NP -> Det * N\n",
            "|.     .     [----->     .     .     .     .| [2:3] NP -> Det * N PP\n",
            "|.     .     [----->     .     .     .     .| [2:3] NP -> Det * N PP PP\n",
            "Bottom Up Predict Combine Rule:\n",
            "|.     .     .     [-----]     .     .     .| [3:4] N  -> 'man' *\n",
            "Single Edge Fundamental Rule:\n",
            "|.     .     [-----------]     .     .     .| [2:4] NP -> Det N *\n",
            "|.     .     [----------->     .     .     .| [2:4] NP -> Det N * PP\n",
            "|.     .     [----------->     .     .     .| [2:4] NP -> Det N * PP PP\n",
            "Bottom Up Predict Combine Rule:\n",
            "|.     .     [----------->     .     .     .| [2:4] S  -> NP * VP\n",
            "Single Edge Fundamental Rule:\n",
            "|.     [-----------------]     .     .     .| [1:4] VP -> V NP *\n",
            "Bottom Up Predict Combine Rule:\n",
            "|.     [----------------->     .     .     .| [1:4] VP -> VP * PP\n",
            "|.     [----------------->     .     .     .| [1:4] VP -> VP * AdvP\n",
            "Single Edge Fundamental Rule:\n",
            "|[-----------------------]     .     .     .| [0:4] S  -> NP VP *\n",
            "Bottom Up Predict Combine Rule:\n",
            "|.     .     .     .     [-----]     .     .| [4:5] P  -> 'with' *\n",
            "|.     .     .     .     [-----]     .     .| [4:5] Adv -> 'with' *\n",
            "Bottom Up Predict Combine Rule:\n",
            "|.     .     .     .     [----->     .     .| [4:5] AdvP -> Adv * PP\n",
            "Bottom Up Predict Combine Rule:\n",
            "|.     .     .     .     [----->     .     .| [4:5] PP -> P * NP\n",
            "Bottom Up Predict Combine Rule:\n",
            "|.     .     .     .     .     [-----]     .| [5:6] Det -> 'my' *\n",
            "Bottom Up Predict Combine Rule:\n",
            "|.     .     .     .     .     [----->     .| [5:6] NP -> Det * N\n",
            "|.     .     .     .     .     [----->     .| [5:6] NP -> Det * N PP\n",
            "|.     .     .     .     .     [----->     .| [5:6] NP -> Det * N PP PP\n",
            "Bottom Up Predict Combine Rule:\n",
            "|.     .     .     .     .     .     [-----]| [6:7] N  -> 'telescope' *\n",
            "Single Edge Fundamental Rule:\n",
            "|.     .     .     .     .     [-----------]| [5:7] NP -> Det N *\n",
            "|.     .     .     .     .     [----------->| [5:7] NP -> Det N * PP\n",
            "|.     .     .     .     .     [----------->| [5:7] NP -> Det N * PP PP\n",
            "Bottom Up Predict Combine Rule:\n",
            "|.     .     .     .     .     [----------->| [5:7] S  -> NP * VP\n",
            "Single Edge Fundamental Rule:\n",
            "|.     .     .     .     [-----------------]| [4:7] PP -> P NP *\n",
            "Single Edge Fundamental Rule:\n",
            "|.     .     [-----------------------------]| [2:7] NP -> Det N PP *\n",
            "|.     .     [----------------------------->| [2:7] NP -> Det N PP * PP\n",
            "|.     [-----------------------------------]| [1:7] VP -> VP PP *\n",
            "Bottom Up Predict Combine Rule:\n",
            "|.     [----------------------------------->| [1:7] VP -> VP * PP\n",
            "|.     [----------------------------------->| [1:7] VP -> VP * AdvP\n",
            "Single Edge Fundamental Rule:\n",
            "|[=========================================]| [0:7] S  -> NP VP *\n",
            "Bottom Up Predict Combine Rule:\n",
            "|.     .     [----------------------------->| [2:7] S  -> NP * VP\n",
            "Single Edge Fundamental Rule:\n",
            "|.     [-----------------------------------]| [1:7] VP -> V NP *\n",
            "Bottom Up Predict Combine Rule:\n",
            "|.     [----------------------------------->| [1:7] VP -> VP * PP\n",
            "|.     [----------------------------------->| [1:7] VP -> VP * AdvP\n",
            "Single Edge Fundamental Rule:\n",
            "|[=========================================]| [0:7] S  -> NP VP *\n",
            "(S\n",
            "  (NP John)\n",
            "  (VP\n",
            "    (VP (V saw) (NP (Det a) (N man)))\n",
            "    (PP (P with) (NP (Det my) (N telescope)))))\n",
            "(S\n",
            "  (NP John)\n",
            "  (VP\n",
            "    (V saw)\n",
            "    (NP (Det a) (N man) (PP (P with) (NP (Det my) (N telescope))))))\n",
            "\n",
            "\n",
            "\n",
            "\n",
            "\n",
            "\n",
            "Tree of the sentence : Alex kissed the dog\n",
            "|.   Alex  .  kissed .   the   .   dog   .|\n",
            "Leaf Init Rule:\n",
            "|[---------]         .         .         .| [0:1] 'Alex'\n",
            "|.         [---------]         .         .| [1:2] 'kissed'\n",
            "|.         .         [---------]         .| [2:3] 'the'\n",
            "|.         .         .         [---------]| [3:4] 'dog'\n",
            "Bottom Up Predict Combine Rule:\n",
            "|[---------]         .         .         .| [0:1] NP -> 'Alex' *\n",
            "Bottom Up Predict Combine Rule:\n",
            "|[--------->         .         .         .| [0:1] S  -> NP * VP\n",
            "Bottom Up Predict Combine Rule:\n",
            "|.         [---------]         .         .| [1:2] V  -> 'kissed' *\n",
            "Bottom Up Predict Combine Rule:\n",
            "|.         [--------->         .         .| [1:2] VP -> V * NP\n",
            "Bottom Up Predict Combine Rule:\n",
            "|.         .         [---------]         .| [2:3] Det -> 'the' *\n",
            "Bottom Up Predict Combine Rule:\n",
            "|.         .         [--------->         .| [2:3] NP -> Det * N\n",
            "|.         .         [--------->         .| [2:3] NP -> Det * N PP\n",
            "|.         .         [--------->         .| [2:3] NP -> Det * N PP PP\n",
            "Bottom Up Predict Combine Rule:\n",
            "|.         .         .         [---------]| [3:4] N  -> 'dog' *\n",
            "Single Edge Fundamental Rule:\n",
            "|.         .         [-------------------]| [2:4] NP -> Det N *\n",
            "|.         .         [------------------->| [2:4] NP -> Det N * PP\n",
            "|.         .         [------------------->| [2:4] NP -> Det N * PP PP\n",
            "Bottom Up Predict Combine Rule:\n",
            "|.         .         [------------------->| [2:4] S  -> NP * VP\n",
            "Single Edge Fundamental Rule:\n",
            "|.         [-----------------------------]| [1:4] VP -> V NP *\n",
            "Bottom Up Predict Combine Rule:\n",
            "|.         [----------------------------->| [1:4] VP -> VP * PP\n",
            "|.         [----------------------------->| [1:4] VP -> VP * AdvP\n",
            "Single Edge Fundamental Rule:\n",
            "|[=======================================]| [0:4] S  -> NP VP *\n",
            "(S (NP Alex) (VP (V kissed) (NP (Det the) (N dog))))\n",
            "\n",
            "\n",
            "\n",
            "\n",
            "\n",
            "\n",
            "Tree of the sentence : the man with the telescope ate a sandwich in the park\n",
            "|.the.man.wit.the.tel.ate. a .san. in.the.par.|\n",
            "Leaf Init Rule:\n",
            "|[---]   .   .   .   .   .   .   .   .   .   .| [0:1] 'the'\n",
            "|.   [---]   .   .   .   .   .   .   .   .   .| [1:2] 'man'\n",
            "|.   .   [---]   .   .   .   .   .   .   .   .| [2:3] 'with'\n",
            "|.   .   .   [---]   .   .   .   .   .   .   .| [3:4] 'the'\n",
            "|.   .   .   .   [---]   .   .   .   .   .   .| [4:5] 'telescope'\n",
            "|.   .   .   .   .   [---]   .   .   .   .   .| [5:6] 'ate'\n",
            "|.   .   .   .   .   .   [---]   .   .   .   .| [6:7] 'a'\n",
            "|.   .   .   .   .   .   .   [---]   .   .   .| [7:8] 'sandwich'\n",
            "|.   .   .   .   .   .   .   .   [---]   .   .| [8:9] 'in'\n",
            "|.   .   .   .   .   .   .   .   .   [---]   .| [9:10] 'the'\n",
            "|.   .   .   .   .   .   .   .   .   .   [---]| [10:11] 'park'\n",
            "Bottom Up Predict Combine Rule:\n",
            "|[---]   .   .   .   .   .   .   .   .   .   .| [0:1] Det -> 'the' *\n",
            "Bottom Up Predict Combine Rule:\n",
            "|[--->   .   .   .   .   .   .   .   .   .   .| [0:1] NP -> Det * N\n",
            "|[--->   .   .   .   .   .   .   .   .   .   .| [0:1] NP -> Det * N PP\n",
            "|[--->   .   .   .   .   .   .   .   .   .   .| [0:1] NP -> Det * N PP PP\n",
            "Bottom Up Predict Combine Rule:\n",
            "|.   [---]   .   .   .   .   .   .   .   .   .| [1:2] N  -> 'man' *\n",
            "Single Edge Fundamental Rule:\n",
            "|[-------]   .   .   .   .   .   .   .   .   .| [0:2] NP -> Det N *\n",
            "|[------->   .   .   .   .   .   .   .   .   .| [0:2] NP -> Det N * PP\n",
            "|[------->   .   .   .   .   .   .   .   .   .| [0:2] NP -> Det N * PP PP\n",
            "Bottom Up Predict Combine Rule:\n",
            "|[------->   .   .   .   .   .   .   .   .   .| [0:2] S  -> NP * VP\n",
            "Bottom Up Predict Combine Rule:\n",
            "|.   .   [---]   .   .   .   .   .   .   .   .| [2:3] P  -> 'with' *\n",
            "|.   .   [---]   .   .   .   .   .   .   .   .| [2:3] Adv -> 'with' *\n",
            "Bottom Up Predict Combine Rule:\n",
            "|.   .   [--->   .   .   .   .   .   .   .   .| [2:3] AdvP -> Adv * PP\n",
            "Bottom Up Predict Combine Rule:\n",
            "|.   .   [--->   .   .   .   .   .   .   .   .| [2:3] PP -> P * NP\n",
            "Bottom Up Predict Combine Rule:\n",
            "|.   .   .   [---]   .   .   .   .   .   .   .| [3:4] Det -> 'the' *\n",
            "Bottom Up Predict Combine Rule:\n",
            "|.   .   .   [--->   .   .   .   .   .   .   .| [3:4] NP -> Det * N\n",
            "|.   .   .   [--->   .   .   .   .   .   .   .| [3:4] NP -> Det * N PP\n",
            "|.   .   .   [--->   .   .   .   .   .   .   .| [3:4] NP -> Det * N PP PP\n",
            "Bottom Up Predict Combine Rule:\n",
            "|.   .   .   .   [---]   .   .   .   .   .   .| [4:5] N  -> 'telescope' *\n",
            "Single Edge Fundamental Rule:\n",
            "|.   .   .   [-------]   .   .   .   .   .   .| [3:5] NP -> Det N *\n",
            "|.   .   .   [------->   .   .   .   .   .   .| [3:5] NP -> Det N * PP\n",
            "|.   .   .   [------->   .   .   .   .   .   .| [3:5] NP -> Det N * PP PP\n",
            "Bottom Up Predict Combine Rule:\n",
            "|.   .   .   [------->   .   .   .   .   .   .| [3:5] S  -> NP * VP\n",
            "Single Edge Fundamental Rule:\n",
            "|.   .   [-----------]   .   .   .   .   .   .| [2:5] PP -> P NP *\n",
            "Single Edge Fundamental Rule:\n",
            "|[-------------------]   .   .   .   .   .   .| [0:5] NP -> Det N PP *\n",
            "|[------------------->   .   .   .   .   .   .| [0:5] NP -> Det N PP * PP\n",
            "Bottom Up Predict Combine Rule:\n",
            "|[------------------->   .   .   .   .   .   .| [0:5] S  -> NP * VP\n",
            "Bottom Up Predict Combine Rule:\n",
            "|.   .   .   .   .   [---]   .   .   .   .   .| [5:6] V  -> 'ate' *\n",
            "Bottom Up Predict Combine Rule:\n",
            "|.   .   .   .   .   [--->   .   .   .   .   .| [5:6] VP -> V * NP\n",
            "Bottom Up Predict Combine Rule:\n",
            "|.   .   .   .   .   .   [---]   .   .   .   .| [6:7] Det -> 'a' *\n",
            "Bottom Up Predict Combine Rule:\n",
            "|.   .   .   .   .   .   [--->   .   .   .   .| [6:7] NP -> Det * N\n",
            "|.   .   .   .   .   .   [--->   .   .   .   .| [6:7] NP -> Det * N PP\n",
            "|.   .   .   .   .   .   [--->   .   .   .   .| [6:7] NP -> Det * N PP PP\n",
            "Bottom Up Predict Combine Rule:\n",
            "|.   .   .   .   .   .   .   [---]   .   .   .| [7:8] N  -> 'sandwich' *\n",
            "Single Edge Fundamental Rule:\n",
            "|.   .   .   .   .   .   [-------]   .   .   .| [6:8] NP -> Det N *\n",
            "|.   .   .   .   .   .   [------->   .   .   .| [6:8] NP -> Det N * PP\n",
            "|.   .   .   .   .   .   [------->   .   .   .| [6:8] NP -> Det N * PP PP\n",
            "Bottom Up Predict Combine Rule:\n",
            "|.   .   .   .   .   .   [------->   .   .   .| [6:8] S  -> NP * VP\n",
            "Single Edge Fundamental Rule:\n",
            "|.   .   .   .   .   [-----------]   .   .   .| [5:8] VP -> V NP *\n",
            "Bottom Up Predict Combine Rule:\n",
            "|.   .   .   .   .   [----------->   .   .   .| [5:8] VP -> VP * PP\n",
            "|.   .   .   .   .   [----------->   .   .   .| [5:8] VP -> VP * AdvP\n",
            "Single Edge Fundamental Rule:\n",
            "|.   .   .   [-------------------]   .   .   .| [3:8] S  -> NP VP *\n",
            "|[-------------------------------]   .   .   .| [0:8] S  -> NP VP *\n",
            "Bottom Up Predict Combine Rule:\n",
            "|.   .   .   .   .   .   .   .   [---]   .   .| [8:9] P  -> 'in' *\n",
            "Bottom Up Predict Combine Rule:\n",
            "|.   .   .   .   .   .   .   .   [--->   .   .| [8:9] PP -> P * NP\n",
            "Bottom Up Predict Combine Rule:\n",
            "|.   .   .   .   .   .   .   .   .   [---]   .| [9:10] Det -> 'the' *\n",
            "Bottom Up Predict Combine Rule:\n",
            "|.   .   .   .   .   .   .   .   .   [--->   .| [9:10] NP -> Det * N\n",
            "|.   .   .   .   .   .   .   .   .   [--->   .| [9:10] NP -> Det * N PP\n",
            "|.   .   .   .   .   .   .   .   .   [--->   .| [9:10] NP -> Det * N PP PP\n",
            "Bottom Up Predict Combine Rule:\n",
            "|.   .   .   .   .   .   .   .   .   .   [---]| [10:11] N  -> 'park' *\n",
            "Single Edge Fundamental Rule:\n",
            "|.   .   .   .   .   .   .   .   .   [-------]| [9:11] NP -> Det N *\n",
            "|.   .   .   .   .   .   .   .   .   [------->| [9:11] NP -> Det N * PP\n",
            "|.   .   .   .   .   .   .   .   .   [------->| [9:11] NP -> Det N * PP PP\n",
            "Bottom Up Predict Combine Rule:\n",
            "|.   .   .   .   .   .   .   .   .   [------->| [9:11] S  -> NP * VP\n",
            "Single Edge Fundamental Rule:\n",
            "|.   .   .   .   .   .   .   .   [-----------]| [8:11] PP -> P NP *\n",
            "Single Edge Fundamental Rule:\n",
            "|.   .   .   .   .   .   [-------------------]| [6:11] NP -> Det N PP *\n",
            "|.   .   .   .   .   .   [------------------->| [6:11] NP -> Det N PP * PP\n",
            "|.   .   .   .   .   [-----------------------]| [5:11] VP -> VP PP *\n",
            "Bottom Up Predict Combine Rule:\n",
            "|.   .   .   .   .   [----------------------->| [5:11] VP -> VP * PP\n",
            "|.   .   .   .   .   [----------------------->| [5:11] VP -> VP * AdvP\n",
            "Single Edge Fundamental Rule:\n",
            "|.   .   .   [-------------------------------]| [3:11] S  -> NP VP *\n",
            "|[===========================================]| [0:11] S  -> NP VP *\n",
            "Bottom Up Predict Combine Rule:\n",
            "|.   .   .   .   .   .   [------------------->| [6:11] S  -> NP * VP\n",
            "Single Edge Fundamental Rule:\n",
            "|.   .   .   .   .   [-----------------------]| [5:11] VP -> V NP *\n",
            "Bottom Up Predict Combine Rule:\n",
            "|.   .   .   .   .   [----------------------->| [5:11] VP -> VP * PP\n",
            "|.   .   .   .   .   [----------------------->| [5:11] VP -> VP * AdvP\n",
            "Single Edge Fundamental Rule:\n",
            "|.   .   .   [-------------------------------]| [3:11] S  -> NP VP *\n",
            "|[===========================================]| [0:11] S  -> NP VP *\n",
            "(S\n",
            "  (NP (Det the) (N man) (PP (P with) (NP (Det the) (N telescope))))\n",
            "  (VP\n",
            "    (VP (V ate) (NP (Det a) (N sandwich)))\n",
            "    (PP (P in) (NP (Det the) (N park)))))\n",
            "(S\n",
            "  (NP (Det the) (N man) (PP (P with) (NP (Det the) (N telescope))))\n",
            "  (VP\n",
            "    (V ate)\n",
            "    (NP (Det a) (N sandwich) (PP (P in) (NP (Det the) (N park))))))\n",
            "\n",
            "\n",
            "\n",
            "\n",
            "\n",
            "\n"
          ]
        }
      ]
    },
    {
      "cell_type": "markdown",
      "source": [
        "###**Explanation of ambiguities:**\n",
        "\n"
      ],
      "metadata": {
        "id": "aue-Gqq3My_U"
      }
    },
    {
      "cell_type": "markdown",
      "source": [
        "#### **John saw a man with my telescope**"
      ],
      "metadata": {
        "id": "Bg8aYlObQuPz"
      }
    },
    {
      "cell_type": "markdown",
      "source": [
        "####In the phrase **John saw a man with my telescope** there are two possible trees:\n",
        "\n",
        "\n",
        "1. \n",
        "\n",
        "\n",
        "```\n",
        "(S\n",
        "(NP John)\n",
        "(VP\n",
        "    (VP (V saw) (NP (Det a) (N man)))\n",
        "    (PP (P with) (NP (Det my) (N telescope)))))\n",
        "```\n",
        "\n",
        "We can conclude that the meaning is that John saw a man, and when John saw that man, John was using my telescope to see it.\n",
        "\n",
        "2. \n",
        "\n",
        "\n",
        "```\n",
        "(S\n",
        "(NP John)\n",
        "(VP\n",
        "    (V saw)\n",
        "    (NP (Det a) (N man) (PP (P with) (NP (Det my) (N telescope))))))\n",
        "\n",
        "```\n",
        "\n",
        "Here instead, the meaning would be that John saw a man, and that the man that john saw was with my telescope."
      ],
      "metadata": {
        "id": "1xCPWj9JOrkf"
      }
    },
    {
      "cell_type": "markdown",
      "source": [
        "#### **the man with the telescope ate a sandwich in the park**"
      ],
      "metadata": {
        "id": "L9Tx-MtqQx27"
      }
    },
    {
      "cell_type": "markdown",
      "source": [
        "#### In the phrase **the man with the telescope ate a sandwich in the park** there are two possible trees:\n",
        "\n",
        "\n",
        "1. \n",
        "\n",
        "\n",
        "```\n",
        "(S\n",
        "  (NP (Det the) (N man) (PP (P with) (NP (Det the) (N telescope))))\n",
        "  (VP\n",
        "    (VP (V ate) (NP (Det a) (N sandwich)))\n",
        "    (PP (P in) (NP (Det the) (N park)))))\n",
        "```\n",
        "The first tree shows that the PP \"with the telescope\" modifies the NP \"the man\"\n",
        "\n",
        "2. \n",
        "\n",
        "\n",
        "```\n",
        "(S\n",
        "  (NP (Det the) (N man) (PP (P with) (NP (Det the) (N telescope))))\n",
        "  (VP\n",
        "    (V ate)\n",
        "    (NP (Det a) (N sandwich) (PP (P in) (NP (Det the) (N park))))))\n",
        "\n",
        "```\n",
        "\n",
        "The second tree shows that the PP \"in the park\" modifies the NP \"a sandwich\". \n",
        "\n",
        "\n",
        "The meaning remains the same in both."
      ],
      "metadata": {
        "id": "TKRMSvtNQMf3"
      }
    },
    {
      "cell_type": "markdown",
      "source": [
        "##**3. Exercise**"
      ],
      "metadata": {
        "id": "MXdintE8G_6Y"
      }
    },
    {
      "cell_type": "markdown",
      "source": [
        "#### Write an example of a sentence that, although it is syntactically correct in Englishand uses the lexicon of the previous grammar, it cannot be parsed by the previous defined grammar."
      ],
      "metadata": {
        "id": "tvuVmNK2HUCr"
      }
    },
    {
      "cell_type": "markdown",
      "source": [
        "1. **\"John with my telescope saw a man\"**:\n",
        "\n",
        "    The sentence is grammatically correct in English and includes words from the lexicon used to define the grammar. However, it cannot be parsed by the previously defined grammar because it violates the order of constituents specified in the grammar rules.\n",
        "    \n",
        "     The rule for a sentence (S) specifies that it must consist of a noun phrase (NP) followed by a verb phrase (VP). The rule for a verb phrase (VP) specifies that it can consist of a verb (V) followed by a noun phrase (NP) or a VP followed by a prepositional phrase (PP) or an adverb phrase (AdvP). \\\n",
        "     \n",
        "     However, in the given sentence, the PP \"with my telescope\" appears before the VP \"saw a man\", while the grammar rules dictate that the prepositional phrase should follow the verb phrase. Then, the sentence cannot be parsed by the previously defined grammar."
      ],
      "metadata": {
        "id": "QxR6SXdZINTB"
      }
    },
    {
      "cell_type": "markdown",
      "source": [
        "Let's check if it would be possible to parse it or not:"
      ],
      "metadata": {
        "id": "BdTqWiGxVRyf"
      }
    },
    {
      "cell_type": "code",
      "source": [
        "from nltk import CFG\n",
        "\n",
        "# Defining a grammar\n",
        "my_grammar = CFG.fromstring(\"\"\"\n",
        "S -> NP VP\n",
        "PP -> P NP\n",
        "NP -> Det N | Det N PP | Det N PP PP | 'John' | 'Alex'\n",
        "VP -> V NP | VP PP | VP AdvP\n",
        "Det -> 'a' | 'my' | 'the'\n",
        "N -> 'man' | 'telescope' | 'dog' | 'sandwich' | 'park'\n",
        "V -> 'saw' | 'kissed' | 'ate'\n",
        "P -> 'with' | 'in'\n",
        "AdvP -> Adv PP\n",
        "Adv -> 'with'\n",
        "\"\"\")\n",
        "\n",
        "# List of texts to be parsed\n",
        "mytexts = [\"John with my telescope saw a man\"]\n",
        "\n",
        "# Printing the grammar\n",
        "print(\"START grammar:\",my_grammar.start())\n",
        "print(\"PRODUCTIONS grammar:\",my_grammar.productions())\n",
        "print (\"\\n\\n\\n\")\n",
        "\n",
        "for sentence in mytexts:\n",
        "    #printing the tree\n",
        "    print(\"Tree of the sentence :\", sentence)\n",
        "    parser = nltk.parse.chart.ChartParser(my_grammar,trace=2)\n",
        "    text_tokens = nltk.word_tokenize(sentence)\n",
        "    trees = parser.parse(text_tokens)\n",
        "    for t in trees:\n",
        "        print(t)\n",
        "    print(\"\\n\\n\\n\\n\\n\")\n"
      ],
      "metadata": {
        "colab": {
          "base_uri": "https://localhost:8080/"
        },
        "id": "AuABGhqJUx_7",
        "outputId": "2c915caf-c131-479f-bb00-1a77544ab985"
      },
      "execution_count": null,
      "outputs": [
        {
          "output_type": "stream",
          "name": "stdout",
          "text": [
            "START grammar: S\n",
            "PRODUCTIONS grammar: [S -> NP VP, PP -> P NP, NP -> Det N, NP -> Det N PP, NP -> Det N PP PP, NP -> 'John', NP -> 'Alex', VP -> V NP, VP -> VP PP, VP -> VP AdvP, Det -> 'a', Det -> 'my', Det -> 'the', N -> 'man', N -> 'telescope', N -> 'dog', N -> 'sandwich', N -> 'park', V -> 'saw', V -> 'kissed', V -> 'ate', P -> 'with', P -> 'in', AdvP -> Adv PP, Adv -> 'with']\n",
            "\n",
            "\n",
            "\n",
            "\n",
            "Tree of the sentence : John with my telescope saw a man\n",
            "|. John. with.  my .teles. saw .  a  . man .|\n",
            "Leaf Init Rule:\n",
            "|[-----]     .     .     .     .     .     .| [0:1] 'John'\n",
            "|.     [-----]     .     .     .     .     .| [1:2] 'with'\n",
            "|.     .     [-----]     .     .     .     .| [2:3] 'my'\n",
            "|.     .     .     [-----]     .     .     .| [3:4] 'telescope'\n",
            "|.     .     .     .     [-----]     .     .| [4:5] 'saw'\n",
            "|.     .     .     .     .     [-----]     .| [5:6] 'a'\n",
            "|.     .     .     .     .     .     [-----]| [6:7] 'man'\n",
            "Bottom Up Predict Combine Rule:\n",
            "|[-----]     .     .     .     .     .     .| [0:1] NP -> 'John' *\n",
            "Bottom Up Predict Combine Rule:\n",
            "|[----->     .     .     .     .     .     .| [0:1] S  -> NP * VP\n",
            "Bottom Up Predict Combine Rule:\n",
            "|.     [-----]     .     .     .     .     .| [1:2] P  -> 'with' *\n",
            "|.     [-----]     .     .     .     .     .| [1:2] Adv -> 'with' *\n",
            "Bottom Up Predict Combine Rule:\n",
            "|.     [----->     .     .     .     .     .| [1:2] AdvP -> Adv * PP\n",
            "Bottom Up Predict Combine Rule:\n",
            "|.     [----->     .     .     .     .     .| [1:2] PP -> P * NP\n",
            "Bottom Up Predict Combine Rule:\n",
            "|.     .     [-----]     .     .     .     .| [2:3] Det -> 'my' *\n",
            "Bottom Up Predict Combine Rule:\n",
            "|.     .     [----->     .     .     .     .| [2:3] NP -> Det * N\n",
            "|.     .     [----->     .     .     .     .| [2:3] NP -> Det * N PP\n",
            "|.     .     [----->     .     .     .     .| [2:3] NP -> Det * N PP PP\n",
            "Bottom Up Predict Combine Rule:\n",
            "|.     .     .     [-----]     .     .     .| [3:4] N  -> 'telescope' *\n",
            "Single Edge Fundamental Rule:\n",
            "|.     .     [-----------]     .     .     .| [2:4] NP -> Det N *\n",
            "|.     .     [----------->     .     .     .| [2:4] NP -> Det N * PP\n",
            "|.     .     [----------->     .     .     .| [2:4] NP -> Det N * PP PP\n",
            "Bottom Up Predict Combine Rule:\n",
            "|.     .     [----------->     .     .     .| [2:4] S  -> NP * VP\n",
            "Single Edge Fundamental Rule:\n",
            "|.     [-----------------]     .     .     .| [1:4] PP -> P NP *\n",
            "Bottom Up Predict Combine Rule:\n",
            "|.     .     .     .     [-----]     .     .| [4:5] V  -> 'saw' *\n",
            "Bottom Up Predict Combine Rule:\n",
            "|.     .     .     .     [----->     .     .| [4:5] VP -> V * NP\n",
            "Bottom Up Predict Combine Rule:\n",
            "|.     .     .     .     .     [-----]     .| [5:6] Det -> 'a' *\n",
            "Bottom Up Predict Combine Rule:\n",
            "|.     .     .     .     .     [----->     .| [5:6] NP -> Det * N\n",
            "|.     .     .     .     .     [----->     .| [5:6] NP -> Det * N PP\n",
            "|.     .     .     .     .     [----->     .| [5:6] NP -> Det * N PP PP\n",
            "Bottom Up Predict Combine Rule:\n",
            "|.     .     .     .     .     .     [-----]| [6:7] N  -> 'man' *\n",
            "Single Edge Fundamental Rule:\n",
            "|.     .     .     .     .     [-----------]| [5:7] NP -> Det N *\n",
            "|.     .     .     .     .     [----------->| [5:7] NP -> Det N * PP\n",
            "|.     .     .     .     .     [----------->| [5:7] NP -> Det N * PP PP\n",
            "Bottom Up Predict Combine Rule:\n",
            "|.     .     .     .     .     [----------->| [5:7] S  -> NP * VP\n",
            "Single Edge Fundamental Rule:\n",
            "|.     .     .     .     [-----------------]| [4:7] VP -> V NP *\n",
            "Bottom Up Predict Combine Rule:\n",
            "|.     .     .     .     [----------------->| [4:7] VP -> VP * PP\n",
            "|.     .     .     .     [----------------->| [4:7] VP -> VP * AdvP\n",
            "Single Edge Fundamental Rule:\n",
            "|.     .     [-----------------------------]| [2:7] S  -> NP VP *\n",
            "\n",
            "\n",
            "\n",
            "\n",
            "\n",
            "\n"
          ]
        }
      ]
    },
    {
      "cell_type": "markdown",
      "source": [
        "As you can see, there's no possible tree because the rules of grammar are not respected."
      ],
      "metadata": {
        "id": "o1JMeCyhVJMG"
      }
    },
    {
      "cell_type": "markdown",
      "source": [
        "## **4. Exercise**"
      ],
      "metadata": {
        "id": "ByYc06bsLO95"
      }
    },
    {
      "cell_type": "markdown",
      "source": [
        "#### Propose how to augment the previous parser to deal with sentences that may be incorrect, for example, containing spelling errors or mistakes arising from automatic speech recognition or handwritten text recognition (maximum 3 sentences)."
      ],
      "metadata": {
        "id": "2qnnXFVwMpzf"
      }
    },
    {
      "cell_type": "markdown",
      "source": [
        "To augment the previous parser to deal with incorrect sentences, we can consider the following approaches:\n",
        "\n",
        "\n",
        "\n",
        "*   **Error detection:** We can implement a module that detects errors in the input sentence before it is passed to the parser. This module can use spelling checkers or other machine learning models to identify possible errors and suggest corrections. If an error is detected, the user can be prompted to confirm or correct the error before proceeding. \n",
        "\n",
        "*   **Robust parsing:** We can improve the parser's robustness by using techniques such as probabilistic parsing or error-tolerant parsing. These techniques allow the parser to handle uncertain or incomplete input by assigning probabilities to different parse trees or by generating multiple possible parse trees. The most likely or the most appropriate parse tree can then be selected based on context or user feedback.\n",
        "\n",
        "*   **Data augmentation:** We can augment the training data for the parser with examples of sentences containing errors or mistakes. This can help the parser learn to handle common errors and variations in the input. We can also use data augmentation techniques such as noise injection or random perturbations to simulate different types of errors and improve the parser's robustness.\n",
        "\n",
        "\n",
        "\n",
        "\n",
        "\n",
        "\n",
        "\n",
        "\n"
      ],
      "metadata": {
        "id": "ZhQAnUPnUD8V"
      }
    },
    {
      "cell_type": "markdown",
      "source": [
        "##**5. Exercise**"
      ],
      "metadata": {
        "id": "ZYx_yWa5Vbfw"
      }
    },
    {
      "cell_type": "markdown",
      "source": [],
      "metadata": {
        "id": "xNW4R14rWCfV"
      }
    }
  ]
}